{
 "cells": [
  {
   "cell_type": "code",
   "execution_count": 1,
   "metadata": {
    "colab": {
     "base_uri": "https://localhost:8080/"
    },
    "executionInfo": {
     "elapsed": 62458,
     "status": "ok",
     "timestamp": 1690754707312,
     "user": {
      "displayName": "Adel Khorramrouz",
      "userId": "11572931683899986061"
     },
     "user_tz": 240
    },
    "id": "Q1upeHfTwJjx",
    "outputId": "4996c55a-9f4e-46d2-8de1-000979c64843"
   },
   "outputs": [],
   "source": [
    "import os\n",
    "import re\n",
    "from selenium import webdriver"
   ]
  },
  {
   "cell_type": "code",
   "execution_count": 2,
   "metadata": {
    "executionInfo": {
     "elapsed": 722,
     "status": "ok",
     "timestamp": 1690754708010,
     "user": {
      "displayName": "Adel Khorramrouz",
      "userId": "11572931683899986061"
     },
     "user_tz": 240
    },
    "id": "V0WmJ3PfwvRa"
   },
   "outputs": [],
   "source": [
    "options = webdriver.ChromeOptions()\n",
    "options.add_argument('--headless')\n",
    "driver = webdriver.Chrome(options=options)"
   ]
  },
  {
   "cell_type": "code",
   "execution_count": 3,
   "metadata": {
    "colab": {
     "base_uri": "https://localhost:8080/"
    },
    "executionInfo": {
     "elapsed": 1625,
     "status": "ok",
     "timestamp": 1690754786458,
     "user": {
      "displayName": "Adel Khorramrouz",
      "userId": "11572931683899986061"
     },
     "user_tz": 240
    },
    "id": "K-eYIIKww4ev",
    "outputId": "394e38d8-7f98-4b3f-9ce0-7a1b75124764"
   },
   "outputs": [
    {
     "name": "stdout",
     "output_type": "stream",
     "text": [
      "Page title: Google\n"
     ]
    }
   ],
   "source": [
    "driver.get(\"https://www.google.com\")\n",
    "print(f\"Page title: {driver.title}\")"
   ]
  },
  {
   "cell_type": "code",
   "execution_count": 7,
   "metadata": {
    "colab": {
     "base_uri": "https://localhost:8080/"
    },
    "id": "hTo0CKWa1sJe",
    "outputId": "03f53def-c826-459a-d0fd-1b023aa6c451"
   },
   "outputs": [
    {
     "name": "stdout",
     "output_type": "stream",
     "text": [
      "University of New Brunswick\n",
      "13130\n",
      "9336\n",
      "6880\n",
      "5774\n",
      "4029\n",
      "3203\n",
      "2712\n",
      "2405\n",
      "2075\n",
      "1780\n",
      "1598\n",
      "1372\n",
      "1203\n",
      "1060\n",
      "805\n",
      "731\n",
      "641\n",
      "560\n",
      "485\n",
      "420\n",
      "378\n",
      "330\n",
      "292\n",
      "University of Northern British Colombia\n",
      "6834\n",
      "3220\n",
      "2149\n",
      "1243\n",
      "879\n",
      "689\n",
      "526\n",
      "351\n",
      "249\n",
      "University of Ontario Institute of Technology\n",
      "3851\n",
      "2318\n",
      "1517\n",
      "918\n",
      "597\n",
      "266\n",
      "University of Regina\n",
      "10127\n",
      "6162\n",
      "3674\n",
      "2731\n",
      "2484\n",
      "2094\n",
      "1804\n",
      "1435\n",
      "1223\n",
      "1048\n",
      "871\n",
      "778\n",
      "678\n",
      "573\n",
      "514\n",
      "449\n",
      "359\n",
      "298\n",
      "University of Sherbrooke\n",
      "22635\n",
      "13958\n",
      "10921\n",
      "8486\n",
      "7457\n",
      "6588\n",
      "5997\n",
      "5125\n",
      "4698\n",
      "4172\n",
      "3762\n",
      "3434\n",
      "3258\n",
      "2969\n",
      "2813\n",
      "2615\n",
      "2432\n",
      "2309\n",
      "2052\n",
      "1893\n",
      "1826\n",
      "1572\n",
      "1439\n",
      "1347\n",
      "1287\n",
      "1192\n",
      "1116\n",
      "1042\n",
      "978\n",
      "919\n",
      "880\n",
      "822\n",
      "777\n",
      "672\n",
      "633\n",
      "602\n",
      "567\n",
      "523\n",
      "507\n",
      "457\n",
      "420\n",
      "399\n",
      "389\n",
      "365\n",
      "341\n",
      "314\n",
      "292\n"
     ]
    }
   ],
   "source": [
    "import time\n",
    "from bs4 import BeautifulSoup\n",
    "from selenium.webdriver.common.keys import Keys\n",
    "import numpy as np\n",
    "from selenium.webdriver.common.by import By\n",
    "import pandas as pd\n",
    "import re\n",
    "\n",
    "list_unis_ca_B = \"\"\"\n",
    "University of New Brunswick\n",
    "University of Northern British Colombia\n",
    "University of Ontario Institute of Technology\n",
    "University of Regina\n",
    "University of Sherbrooke\n",
    "    \"\"\"\n",
    "\n",
    "root_url = \"https://scholar.google.com/\"\n",
    "last_citation_boundary = 300\n",
    "data = []\n",
    "\n",
    "driver.get(root_url)\n",
    "\n",
    "\n",
    "def extract_numbers_from_string(input_string):\n",
    "    # Regular expression pattern to match numbers (including integers and floats)\n",
    "    pattern = r'[-+]?\\d*\\.\\d+|\\d+'\n",
    "\n",
    "    # Using re.findall() to find all matches of the pattern in the input string\n",
    "    numbers = re.findall(pattern, input_string)\n",
    "\n",
    "    # Converting the matched strings to actual numbers (integers or floats)\n",
    "    numbers = [int(num) if '.' not in num else float(num) for num in numbers]\n",
    "\n",
    "    return numbers\n",
    "\n",
    "\n",
    "\n",
    "def open_university_in_scholar(university_name,driver=driver):\n",
    "    driver.get(root_url)\n",
    "    time.sleep(2.5)\n",
    "    while (\"Our systems have detected unusual traffic\" in driver.page_source):\n",
    "        print(\"captcha\")\n",
    "        clickable_element = driver.find_element(By.CLASS_NAME, 'g-recaptcha')\n",
    "        clickable_element.click()\n",
    "        time.sleep(10)\n",
    "        print(\"clicking_capthcha\")\n",
    "\n",
    "\n",
    "    time.sleep(1.5)\n",
    "    driver.get(root_url)\n",
    "    search_element = driver.find_element(By.ID,\"gs_hdr_tsi\")\n",
    "    search_element.send_keys(university_name)\n",
    "    search_element.send_keys(Keys.ENTER)\n",
    "    time.sleep(1.3)\n",
    "    university_element = driver.find_element(By.CLASS_NAME,\"gs_r\")\n",
    "    university_element.find_element(By.XPATH,\"//div[@class='gs_ob_inst_r']/a\").click()\n",
    "    time.sleep(1.82)\n",
    "\n",
    "\n",
    "\n",
    "for uni in list_unis_ca_B.split(\"\\n\"):\n",
    "    university = uni.split(\",\")[0]\n",
    "    university = university.strip()\n",
    "    if len(university) < 5:\n",
    "        continue\n",
    "    print(university)\n",
    "    open_university_in_scholar(university)\n",
    "    last_citation = last_citation_boundary+1\n",
    "    while last_citation > last_citation_boundary :\n",
    "        users = driver.find_elements(By.CLASS_NAME,'gsc_1usr')\n",
    "        for user in users:\n",
    "            html_data = user.get_attribute(\"outerHTML\")\n",
    "            soup = BeautifulSoup(html_data, 'html.parser')\n",
    "            name_tag = soup.select_one('h3.gs_ai_name a')\n",
    "            name = name_tag.text.strip()\n",
    "            link = root_url + name_tag['href']\n",
    "            data.append({'Name': name, 'Link': link})\n",
    "\n",
    "        last_citation = int(extract_numbers_from_string(users[-1].find_element(By.CLASS_NAME,'gs_ai_cby').text)[0])\n",
    "        element_xpath = \"//button[@aria-label='Next']\"\n",
    "        driver.find_element(By.CLASS_NAME,\"gsc_pgn\").find_element(By.CSS_SELECTOR,\"button.gsc_pgn_pnx\").click()\n",
    "        print(last_citation)\n",
    "        time.sleep(np.random.random()*4+3)\n",
    "        df = pd.DataFrame(data)\n",
    "        df.to_csv(f\"ca_B/Canada_B_2.csv\")"
   ]
  },
  {
   "cell_type": "code",
   "execution_count": null,
   "metadata": {
    "id": "jDRf6ydEBBhU"
   },
   "outputs": [],
   "source": [
    "driver.page_source"
   ]
  },
  {
   "cell_type": "code",
   "execution_count": null,
   "metadata": {
    "id": "Tfa1Hzz7Q0QR"
   },
   "outputs": [],
   "source": []
  }
 ],
 "metadata": {
  "colab": {
   "provenance": []
  },
  "kernelspec": {
   "display_name": "Python 3 (ipykernel)",
   "language": "python",
   "name": "python3"
  },
  "language_info": {
   "codemirror_mode": {
    "name": "ipython",
    "version": 3
   },
   "file_extension": ".py",
   "mimetype": "text/x-python",
   "name": "python",
   "nbconvert_exporter": "python",
   "pygments_lexer": "ipython3",
   "version": "3.9.13"
  }
 },
 "nbformat": 4,
 "nbformat_minor": 1
}
