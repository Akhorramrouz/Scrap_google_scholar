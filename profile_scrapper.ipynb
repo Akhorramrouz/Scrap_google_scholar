{
 "cells": [
  {
   "cell_type": "code",
   "execution_count": 1,
   "id": "3f21a8de",
   "metadata": {},
   "outputs": [],
   "source": [
    "from selenium import webdriver\n",
    "from selenium.webdriver.common.by import By"
   ]
  },
  {
   "cell_type": "code",
   "execution_count": 2,
   "id": "38a04ec0",
   "metadata": {},
   "outputs": [],
   "source": [
    "driver = webdriver.Chrome()\n",
    "driver.get(\"https://scholar.google.com/citations?user=mWyMp38AAAAJ&hl=en\")"
   ]
  },
  {
   "cell_type": "code",
   "execution_count": 3,
   "id": "9a51eda7",
   "metadata": {},
   "outputs": [],
   "source": [
    "# sort by last published paper\n",
    "driver.find_element(By.ID,\"gsc_a_ha\").click()"
   ]
  },
  {
   "cell_type": "code",
   "execution_count": 4,
   "id": "325e9d8f",
   "metadata": {},
   "outputs": [],
   "source": [
    "def get_coauthor_link(html_snippet, root_url = \"https://scholar.google.com/\"):\n",
    "    soup = BeautifulSoup(html_snippet, 'html.parser')\n",
    "\n",
    "    # Find the <a> tag within the <div> element and get the 'href' attribute\n",
    "    link_element = soup.find('div', class_='gsc_rsb_aa').find('a')\n",
    "    link = root_url + link_element['href']\n",
    "    return link"
   ]
  },
  {
   "cell_type": "code",
   "execution_count": 5,
   "id": "2bfddea8",
   "metadata": {},
   "outputs": [],
   "source": [
    "from bs4 import BeautifulSoup\n",
    "root_url = \"https://scholar.google.com/\"\n",
    "html = driver.page_source\n",
    "\n",
    "# Parse the HTML\n",
    "soup = BeautifulSoup(html, 'html.parser')\n",
    "\n",
    "# Extract top 5 papers\n",
    "for paper in driver.find_elements(By.CLASS_NAME,\"gsc_a_tr\"):\n",
    "    title = paper.text.split(\"\\n\")[0]\n",
    "    authors = paper.text.split(\"\\n\")[1].split(\",\")\n",
    "    number_citations = 0\n",
    "    if len(paper.text.split(\"\\n\")[-1].split()) > 1:\n",
    "        number_citations = paper.text.split(\"\\n\")[-1].split()[0]\n",
    "        publication_year = paper.text.split(\"\\n\")[-1].split()[-1]\n",
    "        \n",
    "        \n",
    "    \n",
    "        \n",
    "        \n",
    "\n",
    "# Extract number of citations and total citations\n",
    "citations_all = soup.select('td.gsc_rsb_std')[0].text\n",
    "citations_since_2018 = soup.select('td.gsc_rsb_std')[1].text\n",
    "\n",
    "# Extract h-index\n",
    "h_index = soup.select('td.gsc_rsb_std')[2].text\n",
    "\n",
    "# Extract research interests\n",
    "research_interests = soup.select('div#gsc_prf_int a')\n",
    "research_interests = [interest.text for interest in research_interests]\n",
    "\n",
    "# Extract top co-authors\n",
    "for co_author in driver.find_elements(By.CLASS_NAME,\"gsc_rsb_aa\"):\n",
    "    co_author_name = co_author.text.split(\"\\n\")[0]\n",
    "    co_author_scholar_link = get_coauthor_link(co_author.get_attribute(\"outerHTML\"))\n",
    "    \n",
    " \n",
    "\n",
    "# Extract affiliation\n",
    "affiliation = soup.select('div.gsc_prf_il a')[0].text.strip()\n",
    "\n",
    "# Extract homepage link\n",
    "homepage_link = soup.select('div#gsc_prf_ivh a')[0]['href']\n",
    "\n"
   ]
  },
  {
   "cell_type": "code",
   "execution_count": 35,
   "id": "9472193e",
   "metadata": {},
   "outputs": [],
   "source": [
    "# TO DO\n",
    "\n",
    "# get_name\n",
    "# get_co_author_name\n",
    "# get_scholar_link"
   ]
  },
  {
   "cell_type": "code",
   "execution_count": 31,
   "id": "55607b95",
   "metadata": {},
   "outputs": [],
   "source": [
    "class Advisor:\n",
    "    def __init__(self, driver, root_url = \"https://scholar.google.com/\"):\n",
    "        self.driver = driver\n",
    "        self.root_url = root_url\n",
    "        self.parse_profile()\n",
    "        \n",
    "    def get_coauthor_link(self, co_author_html):\n",
    "        soup = BeautifulSoup(co_author_html, 'html.parser')\n",
    "        # Find the <a> tag within the <div> element and get the 'href' attribute\n",
    "        link_element = soup.find('div', class_='gsc_rsb_aa').find('a')\n",
    "        link = root_url + link_element['href']\n",
    "        return link\n",
    "\n",
    "\n",
    "    def get_top_coauthors(self):\n",
    "        # Extract top co-authors\n",
    "        coauthors = []\n",
    "        for co_author in self.driver.find_elements(By.CLASS_NAME, \"gsc_rsb_aa\"):\n",
    "            co_author_name = co_author.text.split(\"\\n\")[0]\n",
    "            co_author_scholar_link = self.get_coauthor_link(co_author.get_attribute(\"outerHTML\"))\n",
    "            coauthors.append((co_author_name, co_author_scholar_link))\n",
    "        return coauthors\n",
    "    \n",
    "    \n",
    "    def get_top_papers(self):\n",
    "        top_papers = []\n",
    "        for paper in self.driver.find_elements(By.CLASS_NAME, \"gsc_a_tr\"):\n",
    "            title = paper.text.split(\"\\n\")[0]\n",
    "            authors = paper.text.split(\"\\n\")[1].split(\",\")\n",
    "            number_citations = 0\n",
    "            if len(paper.text.split(\"\\n\")[-1].split()) > 1:\n",
    "                number_citations = paper.text.split(\"\\n\")[-1].split()[0]\n",
    "                \n",
    "            publication_year = paper.text.split(\"\\n\")[-1].split()[-1]\n",
    "            # Append the paper data to the list\n",
    "            top_papers.append({\n",
    "                'title': title,\n",
    "                'authors': authors,\n",
    "                'number_citations': number_citations,\n",
    "                'publication_year': publication_year\n",
    "            })\n",
    "        return top_papers\n",
    "\n",
    "    def parse_profile(self):\n",
    "        # Parse the HTML\n",
    "        soup = BeautifulSoup(self.driver.page_source, 'html.parser')\n",
    "\n",
    "        # Extract number of citations and total citations\n",
    "        citations_all = soup.select('td.gsc_rsb_std')[0].text\n",
    "        citations_since_2018 = soup.select('td.gsc_rsb_std')[1].text\n",
    "\n",
    "        # Extract h-index\n",
    "        h_index = soup.select('td.gsc_rsb_std')[2].text\n",
    "\n",
    "        # Extract research interests\n",
    "        research_interests = soup.select('div#gsc_prf_int a')\n",
    "        research_interests = [interest.text for interest in research_interests]\n",
    "\n",
    "        # Extract affiliation\n",
    "        affiliation = soup.select('div.gsc_prf_il a')[0].text.strip()\n",
    "\n",
    "        # Extract homepage link\n",
    "        homepage_link = soup.select('div#gsc_prf_ivh a')[0]['href']\n",
    "        \n",
    "        #Extract recent papers\n",
    "        recent_papers = self.get_top_papers()\n",
    "        \n",
    "        #Extract co-authors\n",
    "        co_authors = self.get_top_coauthors()\n",
    "\n",
    "        # Assign the extracted data to instance variables\n",
    "        self.citations_all = int(citations_all)\n",
    "        self.citations_since_2018 = int(citations_since_2018)\n",
    "        self.h_index = int(h_index)\n",
    "        self.research_interests = research_interests\n",
    "        self.affiliation = affiliation\n",
    "        self.homepage_link = homepage_link\n",
    "        self.recent_papers = recent_papers\n",
    "        self.top_co_authors = co_authors\n",
    "\n",
    "\n",
    "\n",
    "\n"
   ]
  },
  {
   "cell_type": "code",
   "execution_count": 32,
   "id": "b2d80660",
   "metadata": {},
   "outputs": [],
   "source": [
    "ashique = Advisor(driver)"
   ]
  },
  {
   "cell_type": "code",
   "execution_count": 34,
   "id": "caaa5591",
   "metadata": {},
   "outputs": [
    {
     "data": {
      "text/plain": [
       "[('', 'https://scholar.google.com//citations?user=3zIBRtkAAAAJ&hl=en'),\n",
       " ('', 'https://scholar.google.com//citations?user=SOckmGoAAAAJ&hl=en'),\n",
       " ('', 'https://scholar.google.com//citations?user=MnfzuPYAAAAJ&hl=en'),\n",
       " ('', 'https://scholar.google.com//citations?user=_4dnp0IAAAAJ&hl=en'),\n",
       " ('', 'https://scholar.google.com//citations?user=l6c85tMAAAAJ&hl=en'),\n",
       " ('', 'https://scholar.google.com//citations?user=lTcTyjUAAAAJ&hl=en'),\n",
       " ('', 'https://scholar.google.com//citations?user=yZzc7y0AAAAJ&hl=en'),\n",
       " ('', 'https://scholar.google.com//citations?user=IYUZcy0AAAAJ&hl=en'),\n",
       " ('', 'https://scholar.google.com//citations?user=Z9Pfp6UAAAAJ&hl=en'),\n",
       " ('', 'https://scholar.google.com//citations?user=bYo-HlMAAAAJ&hl=en'),\n",
       " ('', 'https://scholar.google.com//citations?user=KeJfN-IAAAAJ&hl=en'),\n",
       " ('', 'https://scholar.google.com//citations?user=5Qc6lfYAAAAJ&hl=en'),\n",
       " ('', 'https://scholar.google.com//citations?user=LlFuRR4AAAAJ&hl=en'),\n",
       " ('', 'https://scholar.google.com//citations?user=AIncPrIAAAAJ&hl=en'),\n",
       " ('', 'https://scholar.google.com//citations?user=U69fiZMAAAAJ&hl=en'),\n",
       " ('', 'https://scholar.google.com//citations?user=N5Wj_44AAAAJ&hl=en'),\n",
       " ('', 'https://scholar.google.com//citations?user=7vu64WsAAAAJ&hl=en')]"
      ]
     },
     "execution_count": 34,
     "metadata": {},
     "output_type": "execute_result"
    }
   ],
   "source": [
    "ashique.top_co_authors"
   ]
  },
  {
   "cell_type": "code",
   "execution_count": null,
   "id": "0042d6a5",
   "metadata": {},
   "outputs": [],
   "source": []
  }
 ],
 "metadata": {
  "kernelspec": {
   "display_name": "Python 3 (ipykernel)",
   "language": "python",
   "name": "python3"
  },
  "language_info": {
   "codemirror_mode": {
    "name": "ipython",
    "version": 3
   },
   "file_extension": ".py",
   "mimetype": "text/x-python",
   "name": "python",
   "nbconvert_exporter": "python",
   "pygments_lexer": "ipython3",
   "version": "3.9.13"
  }
 },
 "nbformat": 4,
 "nbformat_minor": 5
}
