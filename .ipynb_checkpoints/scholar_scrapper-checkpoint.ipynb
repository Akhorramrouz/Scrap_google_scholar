{
 "cells": [
  {
   "cell_type": "code",
   "execution_count": 1,
   "metadata": {
    "colab": {
     "base_uri": "https://localhost:8080/"
    },
    "executionInfo": {
     "elapsed": 62458,
     "status": "ok",
     "timestamp": 1690754707312,
     "user": {
      "displayName": "Adel Khorramrouz",
      "userId": "11572931683899986061"
     },
     "user_tz": 240
    },
    "id": "Q1upeHfTwJjx",
    "outputId": "4996c55a-9f4e-46d2-8de1-000979c64843"
   },
   "outputs": [],
   "source": [
    "import os\n",
    "import re\n",
    "from selenium import webdriver"
   ]
  },
  {
   "cell_type": "code",
   "execution_count": 2,
   "metadata": {
    "executionInfo": {
     "elapsed": 722,
     "status": "ok",
     "timestamp": 1690754708010,
     "user": {
      "displayName": "Adel Khorramrouz",
      "userId": "11572931683899986061"
     },
     "user_tz": 240
    },
    "id": "V0WmJ3PfwvRa"
   },
   "outputs": [],
   "source": [
    "options = webdriver.ChromeOptions()\n",
    "options.add_argument('--headless')\n",
    "driver = webdriver.Chrome(options=options)"
   ]
  },
  {
   "cell_type": "code",
   "execution_count": 3,
   "metadata": {
    "colab": {
     "base_uri": "https://localhost:8080/"
    },
    "executionInfo": {
     "elapsed": 1625,
     "status": "ok",
     "timestamp": 1690754786458,
     "user": {
      "displayName": "Adel Khorramrouz",
      "userId": "11572931683899986061"
     },
     "user_tz": 240
    },
    "id": "K-eYIIKww4ev",
    "outputId": "394e38d8-7f98-4b3f-9ce0-7a1b75124764"
   },
   "outputs": [
    {
     "name": "stdout",
     "output_type": "stream",
     "text": [
      "Page title: Google\n"
     ]
    }
   ],
   "source": [
    "driver.get(\"https://www.google.com\")\n",
    "print(f\"Page title: {driver.title}\")"
   ]
  },
  {
   "cell_type": "code",
   "execution_count": null,
   "metadata": {
    "colab": {
     "base_uri": "https://localhost:8080/"
    },
    "id": "hTo0CKWa1sJe",
    "outputId": "03f53def-c826-459a-d0fd-1b023aa6c451"
   },
   "outputs": [
    {
     "name": "stdout",
     "output_type": "stream",
     "text": [
      "Brock University\n"
     ]
    }
   ],
   "source": [
    "import time\n",
    "from bs4 import BeautifulSoup\n",
    "from selenium.webdriver.common.keys import Keys\n",
    "import numpy as np\n",
    "from selenium.webdriver.common.by import By\n",
    "import pandas as pd\n",
    "import re\n",
    "\n",
    "list_unis_ca_B = \"\"\"\n",
    "Brock University\n",
    "Carleton University\n",
    "Concordia University\n",
    "Ecole de Technologie Supérieure, University of Quebec\n",
    "Lakehead University\n",
    "National Institute Scientific Research, University of Quebec\n",
    "National School of Public Administration, University of Quebec\n",
    "Ryerson University\n",
    "Université du Québec à Montréal\n",
    "Université du Québec à Québec\n",
    "University of New Brunswick\n",
    "University of Northern British Colombia\n",
    "University of Ontario Institute of Technology\n",
    "University of Regina\n",
    "University of Sherbrooke\n",
    "    \"\"\"\n",
    "\n",
    "root_url = \"https://scholar.google.com/\"\n",
    "last_citation_boundary = 300\n",
    "data = []\n",
    "\n",
    "driver.get(root_url)\n",
    "\n",
    "\n",
    "def extract_numbers_from_string(input_string):\n",
    "    # Regular expression pattern to match numbers (including integers and floats)\n",
    "    pattern = r'[-+]?\\d*\\.\\d+|\\d+'\n",
    "\n",
    "    # Using re.findall() to find all matches of the pattern in the input string\n",
    "    numbers = re.findall(pattern, input_string)\n",
    "\n",
    "    # Converting the matched strings to actual numbers (integers or floats)\n",
    "    numbers = [int(num) if '.' not in num else float(num) for num in numbers]\n",
    "\n",
    "    return numbers\n",
    "\n",
    "\n",
    "\n",
    "def open_university_in_scholar(university_name,driver=driver):\n",
    "    driver.get(root_url)\n",
    "    time.sleep(2.5)\n",
    "    while (\"Our systems have detected unusual traffic\" in driver.page_source):\n",
    "        print(\"captcha\")\n",
    "        clickable_element = driver.find_element(By.CLASS_NAME, 'g-recaptcha')\n",
    "        clickable_element.click()\n",
    "        time.sleep(10)\n",
    "        print(\"clicking_capthcha\")\n",
    "\n",
    "\n",
    "    time.sleep(1.5)\n",
    "    driver.get(root_url)\n",
    "    search_element = driver.find_element(By.ID,\"gs_hdr_tsi\")\n",
    "    search_element.send_keys(university_name)\n",
    "    search_element.send_keys(Keys.ENTER)\n",
    "    time.sleep(1.3)\n",
    "    university_element = driver.find_element(By.CLASS_NAME,\"gs_r\")\n",
    "    university_element.find_element(By.XPATH,\"//div[@class='gs_ob_inst_r']/a\").click()\n",
    "    time.sleep(1.82)\n",
    "\n",
    "\n",
    "\n",
    "for uni in list_unis_ca_B.split(\"\\n\"):\n",
    "    university = uni.split(\",\")[0]\n",
    "    university = university.strip()\n",
    "    if len(university) < 5:\n",
    "        continue\n",
    "    print(university)\n",
    "    open_university_in_scholar(university)\n",
    "    last_citation = last_citation_boundary+1\n",
    "    while last_citation > last_citation_boundary :\n",
    "        users = driver.find_elements(By.CLASS_NAME,'gsc_1usr')\n",
    "        for user in users:\n",
    "            html_data = user.get_attribute(\"outerHTML\")\n",
    "            soup = BeautifulSoup(html_data, 'html.parser')\n",
    "            name_tag = soup.select_one('h3.gs_ai_name a')\n",
    "            name = name_tag.text.strip()\n",
    "            link = root_url + name_tag['href']\n",
    "            data.append({'Name': name, 'Link': link})\n",
    "\n",
    "        last_citation = int(extract_numbers_from_string(users[-1].find_element(By.CLASS_NAME,'gs_ai_cby').text)[0])\n",
    "        element_xpath = \"//button[@aria-label='Next']\"\n",
    "        driver.find_element(By.CLASS_NAME,\"gsc_pgn\").find_element(By.CSS_SELECTOR,\"button.gsc_pgn_pnx\").click()\n",
    "        print(last_citation)\n",
    "        time.sleep(np.random.random()*4+3)\n",
    "        df = pd.DataFrame(data)\n",
    "        df.to_csv(f\"/content/drive/MyDrive/scholar_scrapper/ca_B/Canada_B_1.csv\")"
   ]
  },
  {
   "cell_type": "code",
   "execution_count": null,
   "metadata": {
    "id": "jDRf6ydEBBhU"
   },
   "outputs": [],
   "source": [
    "driver.page_source"
   ]
  },
  {
   "cell_type": "code",
   "execution_count": null,
   "metadata": {
    "id": "Tfa1Hzz7Q0QR"
   },
   "outputs": [],
   "source": []
  }
 ],
 "metadata": {
  "colab": {
   "provenance": []
  },
  "kernelspec": {
   "display_name": "Python 3 (ipykernel)",
   "language": "python",
   "name": "python3"
  },
  "language_info": {
   "codemirror_mode": {
    "name": "ipython",
    "version": 3
   },
   "file_extension": ".py",
   "mimetype": "text/x-python",
   "name": "python",
   "nbconvert_exporter": "python",
   "pygments_lexer": "ipython3",
   "version": "3.9.13"
  }
 },
 "nbformat": 4,
 "nbformat_minor": 1
}
