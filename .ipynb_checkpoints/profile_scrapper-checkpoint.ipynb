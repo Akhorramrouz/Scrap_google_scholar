{
 "cells": [
  {
   "cell_type": "code",
   "execution_count": 6,
   "id": "6fd5e4bf",
   "metadata": {},
   "outputs": [
    {
     "name": "stdout",
     "output_type": "stream",
     "text": [
      "0    Kenneth Rockwood\n"
     ]
    }
   ],
   "source": [
    "from selenium import webdriver\n",
    "import time\n",
    "from selenium.webdriver.common.by import By\n",
    "from bs4 import BeautifulSoup\n",
    "import pandas as pd\n",
    "import json\n",
    "from advisor import Advisor  # Assuming you have a separate Advisor class defined in a file named 'advisor.py'\n",
    "\n",
    "\n",
    "list_links = pd.read_csv(\"all_canada_advisors_name_link_2023.csv\")['Link']\n",
    "\n",
    "advisors = []\n",
    "driver = webdriver.Chrome()\n",
    "for i, link in enumerate(list_links):\n",
    "    driver.get(link)\n",
    "    time.sleep(1.1)\n",
    "\n",
    "    # sort by last published paper\n",
    "    driver.find_element(By.ID, \"gsc_a_ha\").click()\n",
    "    time.sleep(0.76)\n",
    "    \n",
    "    parsed_advisor = Advisor(driver)\n",
    "    print(i,\"  \",parsed_advisor.name)\n",
    "    advisors.append({    \n",
    "        \"scholar_link\":parsed_advisor.scholar_link,\n",
    "        \"name\":parsed_advisor.name,\n",
    "        \"citations_all\":parsed_advisor.citations_all,\n",
    "        \"citations_since_2018\":parsed_advisor.citations_since_2018,\n",
    "        \"h_index\":parsed_advisor.h_index,\n",
    "        \"research_interests\":parsed_advisor.research_interests,\n",
    "        \"affiliation\":parsed_advisor.affiliation,\n",
    "        \"affiliation\":parsed_advisor.homepage_link,\n",
    "        \"recent_papers\":parsed_advisor.recent_papers,\n",
    "        \"top_co_authors\":parsed_advisor.top_co_authors,\n",
    "    })\n",
    "    \n",
    "    break\n",
    "    if i%10==0:\n",
    "        with open(\"advisors_data.json\", 'w') as json_file:\n",
    "            json.dump(advisors,json_file)    "
   ]
  },
  {
   "cell_type": "code",
   "execution_count": 7,
   "id": "c59aeb99",
   "metadata": {},
   "outputs": [],
   "source": [
    "with open(\"advisors_data.json\", 'r') as json_file:\n",
    "    data = json.load(json_file)"
   ]
  }
 ],
 "metadata": {
  "kernelspec": {
   "display_name": "Python 3 (ipykernel)",
   "language": "python",
   "name": "python3"
  },
  "language_info": {
   "codemirror_mode": {
    "name": "ipython",
    "version": 3
   },
   "file_extension": ".py",
   "mimetype": "text/x-python",
   "name": "python",
   "nbconvert_exporter": "python",
   "pygments_lexer": "ipython3",
   "version": "3.9.13"
  }
 },
 "nbformat": 4,
 "nbformat_minor": 5
}
