{
 "cells": [
  {
   "cell_type": "code",
   "execution_count": 25,
   "id": "3f21a8de",
   "metadata": {},
   "outputs": [],
   "source": [
    "from selenium import webdriver\n",
    "import time\n",
    "from selenium.webdriver.common.by import By\n",
    "from bs4 import BeautifulSoup\n",
    "import pandas as pd\n",
    "import pickle"
   ]
  },
  {
   "cell_type": "code",
   "execution_count": 20,
   "id": "55607b95",
   "metadata": {},
   "outputs": [],
   "source": [
    "from selenium import webdriver\n",
    "from selenium.webdriver.common.by import By\n",
    "from bs4 import BeautifulSoup\n",
    "\n",
    "\n",
    "class Advisor:\n",
    "    def __init__(self, driver, root_url = \"https://scholar.google.com/\"):\n",
    "        self.driver = driver\n",
    "        self.root_url = root_url\n",
    "        self.parse_profile()\n",
    "        \n",
    "    def get_coauthor_link(self, co_author_html):\n",
    "        soup = BeautifulSoup(co_author_html, 'html.parser')\n",
    "        # Find the <a> tag within the <div> element and get the 'href' attribute\n",
    "        link_element = soup.find('div', class_='gsc_rsb_aa').find('a')\n",
    "        link = self.root_url + link_element['href']\n",
    "        return link\n",
    "\n",
    "\n",
    "    def get_top_coauthors(self):\n",
    "        # Extract top co-authors\n",
    "        coauthors = []\n",
    "        for co_author in self.driver.find_elements(By.CLASS_NAME, \"gsc_rsb_aa\"):\n",
    "            co_author_name = co_author.text.split(\"\\n\")[0]\n",
    "            co_author_scholar_link = self.get_coauthor_link(co_author.get_attribute(\"outerHTML\"))\n",
    "            coauthors.append((co_author_name, co_author_scholar_link))\n",
    "        return coauthors\n",
    "    \n",
    "    \n",
    "    def get_top_papers(self):\n",
    "        top_papers = []\n",
    "        for paper in self.driver.find_elements(By.CLASS_NAME, \"gsc_a_tr\"):\n",
    "            title = paper.text.split(\"\\n\")[0]\n",
    "            authors = paper.text.split(\"\\n\")[1].split(\",\")\n",
    "            number_citations = 0\n",
    "            if len(paper.text.split(\"\\n\")[-1].split()) > 1:\n",
    "                number_citations = paper.text.split(\"\\n\")[-1].split()[0]\n",
    "                \n",
    "            publication_year = paper.text.split(\"\\n\")[-1].split()[-1]\n",
    "            # Append the paper data to the list\n",
    "            top_papers.append({\n",
    "                'title': title,\n",
    "                'authors': authors,\n",
    "                'number_citations': number_citations,\n",
    "                'publication_year': publication_year\n",
    "            })\n",
    "        return top_papers\n",
    "\n",
    "    def parse_profile(self):\n",
    "        # Parse the HTML\n",
    "        soup = BeautifulSoup(self.driver.page_source, 'html.parser')\n",
    "\n",
    "        # Extract number of citations and total citations\n",
    "        citations_all = soup.select('td.gsc_rsb_std')[0].text\n",
    "        citations_since_2018 = soup.select('td.gsc_rsb_std')[1].text\n",
    "\n",
    "        #Extract name\n",
    "        name = self.driver.find_element(By.ID,\"gsc_prf_in\").text\n",
    "        \n",
    "        # Extract h-index\n",
    "        h_index = soup.select('td.gsc_rsb_std')[2].text\n",
    "\n",
    "        # Extract research interests\n",
    "        research_interests = soup.select('div#gsc_prf_int a')\n",
    "        research_interests = [interest.text for interest in research_interests]\n",
    "\n",
    "        # Extract affiliation\n",
    "        affiliation = soup.select('div.gsc_prf_il a')[0].text.strip()\n",
    "\n",
    "        # Extract homepage link\n",
    "        try:\n",
    "            homepage_link = soup.select('div#gsc_prf_ivh a')[0]['href']\n",
    "        except:\n",
    "            homepage_link = None\n",
    "            \n",
    "            \n",
    "        #Extract recent papers\n",
    "        recent_papers = self.get_top_papers()\n",
    "        \n",
    "        #Extract co-authors\n",
    "        co_authors = self.get_top_coauthors()\n",
    "        \n",
    "        #Extract scholar link\n",
    "        scholar_link = self.driver.current_url\n",
    "        \n",
    "\n",
    "        # Assign the extracted data to instance variables\n",
    "        self.scholar_link = scholar_link\n",
    "        self.name = name\n",
    "        self.citations_all = int(citations_all)\n",
    "        self.citations_since_2018 = int(citations_since_2018)\n",
    "        self.h_index = int(h_index)\n",
    "        self.research_interests = research_interests\n",
    "        self.affiliation = affiliation\n",
    "        self.homepage_link = homepage_link\n",
    "        self.recent_papers = recent_papers\n",
    "        self.top_co_authors = co_authors\n",
    "\n",
    "\n",
    "\n",
    "\n"
   ]
  },
  {
   "cell_type": "code",
   "execution_count": 27,
   "id": "77425d7f",
   "metadata": {},
   "outputs": [],
   "source": [
    "def save_data(data,suffix=\"\"):\n",
    "    with open(f\"advisors{suffix}.pkl\", \"wb\") as f:\n",
    "        pickle.dump(data, f)"
   ]
  },
  {
   "cell_type": "code",
   "execution_count": 22,
   "id": "dea59768",
   "metadata": {},
   "outputs": [],
   "source": [
    "df = pd.read_csv(\"ca_B/Canada_B_1.csv\")"
   ]
  },
  {
   "cell_type": "code",
   "execution_count": 23,
   "id": "edfa61c9",
   "metadata": {},
   "outputs": [],
   "source": [
    "list_links = df['Link']"
   ]
  },
  {
   "cell_type": "code",
   "execution_count": 24,
   "id": "61fcbd10",
   "metadata": {},
   "outputs": [
    {
     "name": "stdout",
     "output_type": "stream",
     "text": [
      "Michael C Ashton\n",
      "William Pickett\n",
      "Thomas S.C. Farrell\n",
      "Dirk De Clercq\n",
      "Teena Willoughby\n",
      "Newman Siu-kwan Sze\n",
      "Gordon Hodson\n",
      "Sid Segalowitz\n",
      "Don McCreary\n",
      "Ryan Plummer\n",
      "9\n"
     ]
    },
    {
     "ename": "NameError",
     "evalue": "name 'pickle' is not defined",
     "output_type": "error",
     "traceback": [
      "\u001b[1;31m---------------------------------------------------------------------------\u001b[0m",
      "\u001b[1;31mNameError\u001b[0m                                 Traceback (most recent call last)",
      "\u001b[1;32m~\\AppData\\Local\\Temp\\ipykernel_7076\\874312860.py\u001b[0m in \u001b[0;36m<module>\u001b[1;34m\u001b[0m\n\u001b[0;32m     12\u001b[0m     \u001b[1;32mif\u001b[0m \u001b[0mi\u001b[0m\u001b[1;33m%\u001b[0m\u001b[1;36m10\u001b[0m \u001b[1;33m==\u001b[0m \u001b[1;36m9\u001b[0m\u001b[1;33m:\u001b[0m\u001b[1;33m\u001b[0m\u001b[1;33m\u001b[0m\u001b[0m\n\u001b[0;32m     13\u001b[0m         \u001b[0mprint\u001b[0m\u001b[1;33m(\u001b[0m\u001b[0mi\u001b[0m\u001b[1;33m)\u001b[0m\u001b[1;33m\u001b[0m\u001b[1;33m\u001b[0m\u001b[0m\n\u001b[1;32m---> 14\u001b[1;33m         \u001b[0msave_data\u001b[0m\u001b[1;33m(\u001b[0m\u001b[0madvisor\u001b[0m\u001b[1;33m)\u001b[0m\u001b[1;33m\u001b[0m\u001b[1;33m\u001b[0m\u001b[0m\n\u001b[0m\u001b[0;32m     15\u001b[0m         \u001b[1;32mbreak\u001b[0m\u001b[1;33m\u001b[0m\u001b[1;33m\u001b[0m\u001b[0m\n",
      "\u001b[1;32m~\\AppData\\Local\\Temp\\ipykernel_7076\\4246188148.py\u001b[0m in \u001b[0;36msave_data\u001b[1;34m(data, suffix)\u001b[0m\n\u001b[0;32m      1\u001b[0m \u001b[1;32mdef\u001b[0m \u001b[0msave_data\u001b[0m\u001b[1;33m(\u001b[0m\u001b[0mdata\u001b[0m\u001b[1;33m,\u001b[0m\u001b[0msuffix\u001b[0m\u001b[1;33m=\u001b[0m\u001b[1;34m\"\"\u001b[0m\u001b[1;33m)\u001b[0m\u001b[1;33m:\u001b[0m\u001b[1;33m\u001b[0m\u001b[1;33m\u001b[0m\u001b[0m\n\u001b[0;32m      2\u001b[0m     \u001b[1;32mwith\u001b[0m \u001b[0mopen\u001b[0m\u001b[1;33m(\u001b[0m\u001b[1;34mf\"advisors{suffix}.dat\"\u001b[0m\u001b[1;33m,\u001b[0m \u001b[1;34m\"wb\"\u001b[0m\u001b[1;33m)\u001b[0m \u001b[1;32mas\u001b[0m \u001b[0mf\u001b[0m\u001b[1;33m:\u001b[0m\u001b[1;33m\u001b[0m\u001b[1;33m\u001b[0m\u001b[0m\n\u001b[1;32m----> 3\u001b[1;33m         \u001b[0mpickle\u001b[0m\u001b[1;33m.\u001b[0m\u001b[0mdump\u001b[0m\u001b[1;33m(\u001b[0m\u001b[0mdata\u001b[0m\u001b[1;33m,\u001b[0m \u001b[0mf\u001b[0m\u001b[1;33m)\u001b[0m\u001b[1;33m\u001b[0m\u001b[1;33m\u001b[0m\u001b[0m\n\u001b[0m",
      "\u001b[1;31mNameError\u001b[0m: name 'pickle' is not defined"
     ]
    }
   ],
   "source": [
    "advisors = []\n",
    "for i,link in enumerate(list_links):\n",
    "    driver.get(link)\n",
    "    time.sleep(1.1)\n",
    "    # sort by last published paper\n",
    "    driver.find_element(By.ID,\"gsc_a_ha\").click()\n",
    "    time.sleep(.76)\n",
    "    paresd_advisor = Advisor(driver)\n",
    "    print(paresd_advisor.name)\n",
    "    advisors.append(paresd_advisor)\n",
    "    \n",
    "    if i%10 == 9:\n",
    "        print(i)\n",
    "        save_data(advisor)\n",
    "        break"
   ]
  },
  {
   "cell_type": "code",
   "execution_count": 28,
   "id": "caaaeb0c",
   "metadata": {},
   "outputs": [
    {
     "name": "stdout",
     "output_type": "stream",
     "text": [
      "9\n"
     ]
    },
    {
     "ename": "PicklingError",
     "evalue": "Can't pickle <class '__main__.Advisor'>: it's not the same object as __main__.Advisor",
     "output_type": "error",
     "traceback": [
      "\u001b[1;31m---------------------------------------------------------------------------\u001b[0m",
      "\u001b[1;31mPicklingError\u001b[0m                             Traceback (most recent call last)",
      "\u001b[1;32m~\\AppData\\Local\\Temp\\ipykernel_7076\\2073724213.py\u001b[0m in \u001b[0;36m<module>\u001b[1;34m\u001b[0m\n\u001b[0;32m      1\u001b[0m \u001b[1;31m# if i%10 == 9:\u001b[0m\u001b[1;33m\u001b[0m\u001b[1;33m\u001b[0m\u001b[0m\n\u001b[0;32m      2\u001b[0m \u001b[0mprint\u001b[0m\u001b[1;33m(\u001b[0m\u001b[0mi\u001b[0m\u001b[1;33m)\u001b[0m\u001b[1;33m\u001b[0m\u001b[1;33m\u001b[0m\u001b[0m\n\u001b[1;32m----> 3\u001b[1;33m \u001b[0msave_data\u001b[0m\u001b[1;33m(\u001b[0m\u001b[0madvisor\u001b[0m\u001b[1;33m)\u001b[0m\u001b[1;33m\u001b[0m\u001b[1;33m\u001b[0m\u001b[0m\n\u001b[0m\u001b[0;32m      4\u001b[0m \u001b[1;32mbreak\u001b[0m\u001b[1;33m\u001b[0m\u001b[1;33m\u001b[0m\u001b[0m\n",
      "\u001b[1;32m~\\AppData\\Local\\Temp\\ipykernel_7076\\2863478489.py\u001b[0m in \u001b[0;36msave_data\u001b[1;34m(data, suffix)\u001b[0m\n\u001b[0;32m      1\u001b[0m \u001b[1;32mdef\u001b[0m \u001b[0msave_data\u001b[0m\u001b[1;33m(\u001b[0m\u001b[0mdata\u001b[0m\u001b[1;33m,\u001b[0m\u001b[0msuffix\u001b[0m\u001b[1;33m=\u001b[0m\u001b[1;34m\"\"\u001b[0m\u001b[1;33m)\u001b[0m\u001b[1;33m:\u001b[0m\u001b[1;33m\u001b[0m\u001b[1;33m\u001b[0m\u001b[0m\n\u001b[0;32m      2\u001b[0m     \u001b[1;32mwith\u001b[0m \u001b[0mopen\u001b[0m\u001b[1;33m(\u001b[0m\u001b[1;34mf\"advisors{suffix}.pkl\"\u001b[0m\u001b[1;33m,\u001b[0m \u001b[1;34m\"wb\"\u001b[0m\u001b[1;33m)\u001b[0m \u001b[1;32mas\u001b[0m \u001b[0mf\u001b[0m\u001b[1;33m:\u001b[0m\u001b[1;33m\u001b[0m\u001b[1;33m\u001b[0m\u001b[0m\n\u001b[1;32m----> 3\u001b[1;33m         \u001b[0mpickle\u001b[0m\u001b[1;33m.\u001b[0m\u001b[0mdump\u001b[0m\u001b[1;33m(\u001b[0m\u001b[0mdata\u001b[0m\u001b[1;33m,\u001b[0m \u001b[0mf\u001b[0m\u001b[1;33m)\u001b[0m\u001b[1;33m\u001b[0m\u001b[1;33m\u001b[0m\u001b[0m\n\u001b[0m",
      "\u001b[1;31mPicklingError\u001b[0m: Can't pickle <class '__main__.Advisor'>: it's not the same object as __main__.Advisor"
     ]
    }
   ],
   "source": [
    "# if i%10 == 9:\n",
    "print(i)\n",
    "save_data(advisor)\n",
    "break"
   ]
  },
  {
   "cell_type": "code",
   "execution_count": null,
   "id": "ad101e64",
   "metadata": {},
   "outputs": [],
   "source": []
  }
 ],
 "metadata": {
  "kernelspec": {
   "display_name": "Python 3 (ipykernel)",
   "language": "python",
   "name": "python3"
  },
  "language_info": {
   "codemirror_mode": {
    "name": "ipython",
    "version": 3
   },
   "file_extension": ".py",
   "mimetype": "text/x-python",
   "name": "python",
   "nbconvert_exporter": "python",
   "pygments_lexer": "ipython3",
   "version": "3.9.13"
  }
 },
 "nbformat": 4,
 "nbformat_minor": 5
}
